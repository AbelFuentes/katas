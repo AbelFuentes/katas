{
 "cells": [
  {
   "cell_type": "code",
   "execution_count": 55,
   "metadata": {},
   "outputs": [
    {
     "name": "stdout",
     "output_type": "stream",
     "text": [
      "ok\n"
     ]
    }
   ],
   "source": [
    "asteroid_speed = 20\n",
    "\n",
    "if asteroid_speed > 20:\n",
    "    print(\"warning\")\n",
    "else:\n",
    "    print(\"ok\")"
   ]
  },
  {
   "cell_type": "code",
   "execution_count": 56,
   "metadata": {},
   "outputs": [
    {
     "name": "stdout",
     "output_type": "stream",
     "text": [
      "can't see\n"
     ]
    }
   ],
   "source": [
    "asteroid_traveling_speed = 19\n",
    "\n",
    "if asteroid_traveling_speed > 40:\n",
    "    print(\"can see far\")\n",
    "elif asteroid_traveling_speed > 20:\n",
    "    print(\"can see closer\")\n",
    "else:\n",
    "    print(\"can't see\")"
   ]
  },
  {
   "cell_type": "code",
   "execution_count": 57,
   "metadata": {},
   "outputs": [
    {
     "name": "stdout",
     "output_type": "stream",
     "text": [
      "gotta catch'em all\n"
     ]
    }
   ],
   "source": [
    "asteroid = {\"speed\": 24, \"volume\": 39}\n",
    "\n",
    "if asteroid['speed'] > 50 or asteroid['volume'] > 40:\n",
    "    print(\"planet killer\")\n",
    "elif asteroid['speed'] > 25 and asteroid['volume'] > 25:\n",
    "    print(\"run to a better place\")\n",
    "else:\n",
    "    print(\"gotta catch'em all\")"
   ]
  }
 ],
 "metadata": {
  "interpreter": {
   "hash": "63fd5069d213b44bf678585dea6b12cceca9941eaf7f819626cde1f2670de90d"
  },
  "kernelspec": {
   "display_name": "Python 3.9.2 64-bit",
   "language": "python",
   "name": "python3"
  },
  "language_info": {
   "codemirror_mode": {
    "name": "ipython",
    "version": 3
   },
   "file_extension": ".py",
   "mimetype": "text/x-python",
   "name": "python",
   "nbconvert_exporter": "python",
   "pygments_lexer": "ipython3",
   "version": "3.9.2"
  },
  "orig_nbformat": 4
 },
 "nbformat": 4,
 "nbformat_minor": 2
}
